{
 "cells": [
  {
   "cell_type": "code",
   "execution_count": 17,
   "id": "e31f8090-298b-4284-82fb-f31df4320233",
   "metadata": {},
   "outputs": [],
   "source": [
    "import pandas as pd\n",
    "import numpy as np\n",
    "import matplotlib.pyplot as plt\n",
    "\n",
    "import xgboost as xgb\n",
    "from sklearn.metrics import mean_absolute_error, r2_score\n",
    "from sklearn.model_selection import train_test_split, GridSearchCV, KFold\n",
    "\n",
    "import warnings\n",
    "warnings.filterwarnings(\"ignore\")\n",
    "\n",
    "pd.set_option(\"display.max_rows\", 500)\n",
    "pd.set_option(\"display.max_columns\", 500)\n",
    "pd.set_option(\"display.width\", 1000)"
   ]
  },
  {
   "cell_type": "code",
   "execution_count": 18,
   "id": "fa3f4eca-346e-4795-b7c9-9629eb8eaa3d",
   "metadata": {},
   "outputs": [],
   "source": [
    "train_df = pd.read_csv(\"data/train.csv\")\n",
    "test_df = pd.read_csv(\"data/test.csv\")"
   ]
  },
  {
   "cell_type": "code",
   "execution_count": 19,
   "id": "45b37b3c-905c-4f45-9dc1-25f98b9586aa",
   "metadata": {},
   "outputs": [],
   "source": [
    "test_id = test_df[\"Id\"]\n",
    "\n",
    "train_df = train_df.drop([\"Id\"], axis=1)\n",
    "test_df = test_df.drop([\"Id\"], axis=1)"
   ]
  },
  {
   "cell_type": "code",
   "execution_count": 20,
   "id": "38b9f887-e52c-4bf6-b1d5-d1fa64d62b01",
   "metadata": {},
   "outputs": [],
   "source": [
    "cat_cols = [col for col in train_df.columns if train_df[col].dtype == \"O\"]\n",
    "num_cols = [\n",
    "    col\n",
    "    for col in train_df.columns\n",
    "    if train_df[col].dtype != \"O\" and col not in [\"Id\", \"SalePrice\"]\n",
    "]"
   ]
  },
  {
   "cell_type": "code",
   "execution_count": 21,
   "id": "27d100ab-081f-40b0-9cd6-6442e817d139",
   "metadata": {},
   "outputs": [],
   "source": [
    "none_columns = [col for col in cat_cols if train_df[col].isnull().sum() > 0]\n",
    "def handle_none_missing_value(dataframe):\n",
    "    for col in none_columns:\n",
    "        dataframe[col].fillna(\"None\", inplace=True)\n",
    "\n",
    "    return dataframe"
   ]
  },
  {
   "cell_type": "code",
   "execution_count": 22,
   "id": "3d5dca11-b4a8-4e23-8008-9cea4b481768",
   "metadata": {},
   "outputs": [],
   "source": [
    "def fill_lot_frontage_by_group(dataframe, group_col):\n",
    "    dataframe['LotFrontage'] = dataframe.groupby(group_col)['LotFrontage'].transform(lambda x: x.fillna(x.mean()))\n",
    "    \n",
    "    return dataframe"
   ]
  },
  {
   "cell_type": "code",
   "execution_count": 23,
   "id": "9e945415-85b6-4e59-b9b3-f193821afd70",
   "metadata": {},
   "outputs": [],
   "source": [
    "def fill_cols_with_zero(dataframe):\n",
    "    zero_columns = [col for col in num_cols if dataframe[col].isnull().sum() > 0]\n",
    "    \n",
    "    for col in zero_columns:\n",
    "        dataframe[col].fillna(0, inplace=True)\n",
    "\n",
    "    return dataframe"
   ]
  },
  {
   "cell_type": "code",
   "execution_count": 24,
   "id": "96c6e656-8997-4fa9-ab2f-70626411dfd5",
   "metadata": {},
   "outputs": [],
   "source": [
    "def fill_cols_with_mode(dataframe):\n",
    "    remaining_cols = [col for col in cat_cols if col not in none_columns if dataframe[col].isnull().any()]\n",
    "\n",
    "    for col in remaining_cols:\n",
    "        dataframe[col].fillna(dataframe[col].mode()[0], inplace=True)\n",
    "\n",
    "    return dataframe"
   ]
  },
  {
   "cell_type": "code",
   "execution_count": 25,
   "id": "0d8a00a0-6c6e-40fb-9f38-7c4bc2c48c23",
   "metadata": {},
   "outputs": [],
   "source": [
    "def add_features(dataframe):\n",
    "    dataframe[\"New_Age\"] = dataframe[\"YrSold\"] - train_df[\"YearRemodAdd\"]\n",
    "    dataframe[\"New_HouseTotalSf\"] = (\n",
    "        dataframe[\"TotalBsmtSF\"] + dataframe[\"1stFlrSF\"] + dataframe[\"2ndFlrSF\"]\n",
    "    )\n",
    "    dataframe[\"New_TotalBath\"] = (\n",
    "        dataframe[\"BsmtFullBath\"]\n",
    "        + (0.5 * dataframe[\"BsmtHalfBath\"])\n",
    "        + dataframe[\"FullBath\"]\n",
    "        + (0.5 * dataframe[\"HalfBath\"])\n",
    "    )\n",
    "    dataframe[\"New_OverallQualCond\"] = (\n",
    "        dataframe[\"OverallQual\"] * dataframe[\"OverallCond\"]\n",
    "    )\n",
    "    dataframe[\"New_FrontagePerArea\"] = dataframe[\"LotFrontage\"] / dataframe[\"LotArea\"]\n",
    "\n",
    "    return dataframe"
   ]
  },
  {
   "cell_type": "code",
   "execution_count": 26,
   "id": "fd032cf3-1a81-48de-ba98-f5a12ac40dff",
   "metadata": {},
   "outputs": [],
   "source": [
    "train_df = handle_none_missing_value(train_df)\n",
    "train_df = fill_lot_frontage_by_group(train_df, \"Neighborhood\")\n",
    "\n",
    "test_df = handle_none_missing_value(test_df)\n",
    "test_df = fill_lot_frontage_by_group(test_df, \"Neighborhood\")\n",
    "\n",
    "train_df = fill_cols_with_zero(train_df)\n",
    "\n",
    "test_df = fill_cols_with_zero(test_df)\n",
    "test_df = fill_cols_with_mode(test_df)"
   ]
  },
  {
   "cell_type": "code",
   "execution_count": 27,
   "id": "6bd2d1a6-aa8a-4bb1-8e4c-0c5baecc7630",
   "metadata": {},
   "outputs": [],
   "source": [
    "train_df = add_features(train_df)\n",
    "test_df = add_features(test_df)"
   ]
  },
  {
   "cell_type": "code",
   "execution_count": 28,
   "id": "3dc0e419-c31c-46ba-a985-3fb7d426528b",
   "metadata": {},
   "outputs": [],
   "source": [
    "# Outliers\n",
    "train_df = train_df.drop(\n",
    "    train_df[(train_df[\"GrLivArea\"] > 4000) & (train_df[\"SalePrice\"] < 300000)].index\n",
    ")"
   ]
  },
  {
   "cell_type": "code",
   "execution_count": 29,
   "id": "57c20010-8e2b-48c5-89cf-2208a6024342",
   "metadata": {},
   "outputs": [],
   "source": [
    "def outlier_threshold(dataframe, col, q1=0.05, q3=0.95):\n",
    "    quartile1 = dataframe[col].quantile(q1)\n",
    "    quartile3 = dataframe[col].quantile(q3)\n",
    "    interquartile = quartile3 - quartile1\n",
    "    upper_limit = quartile3 + interquartile*1.5\n",
    "    lower_limit = quartile1 - interquartile*1.5\n",
    "\n",
    "    return lower_limit, upper_limit"
   ]
  },
  {
   "cell_type": "code",
   "execution_count": 30,
   "id": "f29d037f-13cb-46d6-86a2-d7f4c316edd4",
   "metadata": {},
   "outputs": [],
   "source": [
    "def check_outlier(dataframe, col_name, q1=0.05, q3=0.95):\n",
    "    lower_limit, upper_limit = outlier_threshold(dataframe, col_name, q1, q3)\n",
    "    if dataframe[\n",
    "        (dataframe[col_name] > upper_limit) | (dataframe[col_name] < lower_limit)\n",
    "    ].any(axis=None):\n",
    "        return True\n",
    "    else:\n",
    "        return False"
   ]
  },
  {
   "cell_type": "code",
   "execution_count": 31,
   "id": "1b3cf48e-6ab0-4cd4-b35d-6f6519b8cc42",
   "metadata": {},
   "outputs": [],
   "source": [
    "def replace_with_thresholds(dataframe, col):\n",
    "    lower_limit, upper_limit = outlier_threshold(dataframe, col)\n",
    "    dataframe.loc[(dataframe[col] < lower_limit), col] = lower_limit\n",
    "    dataframe.loc[(dataframe[col] > upper_limit), col] = upper_limit\n",
    "    return dataframe"
   ]
  },
  {
   "cell_type": "code",
   "execution_count": 32,
   "id": "774e6f4f-37e5-49d6-ab21-22ad76ff78ab",
   "metadata": {},
   "outputs": [],
   "source": [
    "# Encoding ordinal variables\n",
    "def apply_mappings(dataframe, mapping_dict):\n",
    "    \"\"\"\n",
    "    Applies mapping dictionaries to both train and test DataFrames.\n",
    "\n",
    "    Parameters:\n",
    "    - train_df: pandas DataFrame for training data\n",
    "    - test_df: pandas DataFrame for test data\n",
    "    - mapping_dict: dictionary with column names as keys and their respective mapping dictionaries as values\n",
    "\n",
    "    Returns:\n",
    "    - train_df: pandas DataFrame with applied mappings\n",
    "    - test_df: pandas DataFrame with applied mappings\n",
    "    \"\"\"\n",
    "    for col, mapping in mapping_dict.items():\n",
    "        if col in dataframe.columns:\n",
    "            dataframe[col] = dataframe[col].map(mapping)\n",
    "    \n",
    "    return dataframe\n",
    "\n",
    "mapping_dict = {\n",
    "    'PoolQC': {'Ex': 4, 'Gd': 3, 'TA': 2, 'Fa': 1, 'None': 0},\n",
    "    'Fence': {'GdPrv': 4, 'GdWo': 3, 'MnPrv': 2, 'MnWw': 1, 'None': 0},\n",
    "    'GarageQual': {'Ex': 5, 'Gd': 4, 'TA': 3, 'Fa': 2, 'Po': 1, 'None': 0},\n",
    "    'GarageCond': {'Ex': 5, 'Gd': 4, 'TA': 3, 'Fa': 2, 'Po': 1, 'None': 0},\n",
    "    'FireplaceQu': {'Ex': 5, 'Gd': 4, 'TA': 3, 'Fa': 2, 'Po': 1, 'None': 0},\n",
    "    'KitchenQual': {'Ex': 5, 'Gd': 4, 'TA': 3, 'Fa': 2, 'Po': 1},\n",
    "    'HeatingQC': {'Ex': 5, 'Gd': 4, 'TA': 3, 'Fa': 2, 'Po': 1},\n",
    "    'BsmtCond': {'Ex': 5, 'Gd': 4, 'TA': 3, 'Fa': 2, 'Po': 1, 'None': 0},\n",
    "    'BsmtExposure': {'Gd': 4, 'Av': 3, 'Mn': 2, 'No': 1, 'None': 0},\n",
    "    'BsmtQual': {'Ex': 5, 'Gd': 4, 'TA': 3, 'Fa': 2, 'Po': 1, 'None': 0},\n",
    "    'ExterQual': {'Ex': 5, 'Gd': 4, 'TA': 3, 'Fa': 2, 'Po': 1},\n",
    "    'ExterCond': {'Ex': 5, 'Gd': 4, 'TA': 3, 'Fa': 2, 'Po': 1}\n",
    "}\n",
    "\n",
    "train_df = apply_mappings(train_df, mapping_dict)\n",
    "test_df = apply_mappings(test_df, mapping_dict)"
   ]
  },
  {
   "cell_type": "code",
   "execution_count": 33,
   "id": "c5789dfb-62be-483e-b7db-3bbc6e5766fc",
   "metadata": {},
   "outputs": [],
   "source": [
    "ordinal_col = ['PoolQC', 'Fence', 'GarageQual', 'GarageCond', 'FireplaceQu', \n",
    "              'KitchenQual', 'HeatingQC', 'BsmtCond', 'BsmtExposure', 'BsmtQual', 'ExterQual', 'ExterCond']\n",
    "remaining_cat_cols = [col for col in cat_cols if col not in ordinal_col]"
   ]
  },
  {
   "cell_type": "code",
   "execution_count": 34,
   "id": "ac23eac5-02e8-485a-867a-a3a527484db8",
   "metadata": {},
   "outputs": [],
   "source": [
    "def one_hot_encoder(dataframe, categorical_cols, drop_first=False):\n",
    "    dataframe = pd.get_dummies(dataframe, columns=categorical_cols, drop_first=drop_first)\n",
    "    return dataframe"
   ]
  },
  {
   "cell_type": "code",
   "execution_count": 35,
   "id": "f4b7b0bf-e5b5-48f6-95bd-223182d81351",
   "metadata": {},
   "outputs": [],
   "source": [
    "combined_df = pd.concat([train_df, test_df], axis=0, ignore_index=True)\n",
    "combined_df = one_hot_encoder(combined_df, remaining_cat_cols, True)"
   ]
  },
  {
   "cell_type": "code",
   "execution_count": 36,
   "id": "37900751-94df-4a02-a0d0-a840983dd3a6",
   "metadata": {},
   "outputs": [],
   "source": [
    "train_df = combined_df[:len(train_df)]\n",
    "test_df = combined_df[len(train_df):]"
   ]
  },
  {
   "cell_type": "code",
   "execution_count": 37,
   "id": "1fd329cf-4e5d-4d2c-81da-c9fa6ce53351",
   "metadata": {},
   "outputs": [],
   "source": [
    "# Model\n",
    "X_train = train_df.drop(columns=['SalePrice'])\n",
    "y_train = train_df['SalePrice']\n",
    "\n",
    "kf = KFold(n_splits=5, shuffle=True, random_state=42)\n",
    "\n",
    "xgb_model = xgb.XGBRegressor(random_state=42)\n",
    "\n",
    "param_grid = {\n",
    "    'n_estimators': [200, 300, 500],\n",
    "    'max_depth': [3, 5, 7],\n",
    "    'learning_rate': [0.1, 0.01, 0.001],\n",
    "    'subsample': [0.5, 0.7, 1]\n",
    "}"
   ]
  },
  {
   "cell_type": "code",
   "execution_count": 38,
   "id": "25924ce6-7fc9-4aed-87cc-16d54186bb4c",
   "metadata": {},
   "outputs": [],
   "source": [
    "grid_search = GridSearchCV(estimator=xgb_model, param_grid=param_grid, scoring='neg_mean_absolute_error', cv=kf, verbose=1, n_jobs=-1)"
   ]
  },
  {
   "cell_type": "code",
   "execution_count": 39,
   "id": "6ad9ac74-ad29-449d-9ca1-d3f06ac4faf0",
   "metadata": {},
   "outputs": [
    {
     "name": "stdout",
     "output_type": "stream",
     "text": [
      "Fitting 5 folds for each of 81 candidates, totalling 405 fits\n",
      "{'learning_rate': 0.1, 'max_depth': 3, 'n_estimators': 300, 'subsample': 0.5}\n"
     ]
    }
   ],
   "source": [
    "grid_search.fit(X_train, y_train)\n",
    "print(grid_search.best_params_)"
   ]
  },
  {
   "cell_type": "code",
   "execution_count": 40,
   "id": "ae060198-5106-4307-b520-d5f1a7e5a03a",
   "metadata": {},
   "outputs": [],
   "source": [
    "best_model = grid_search.best_estimator_"
   ]
  },
  {
   "cell_type": "code",
   "execution_count": 41,
   "id": "8a625ff0-972b-4fae-90fe-55aeeb2f6e6e",
   "metadata": {},
   "outputs": [],
   "source": [
    "X_test = test_df.copy()\n",
    "X_test = X_test.drop([\"SalePrice\"], axis=1)"
   ]
  },
  {
   "cell_type": "code",
   "execution_count": 42,
   "id": "ebde387f-5358-4b38-a85f-ab3c6b6b7263",
   "metadata": {},
   "outputs": [],
   "source": [
    "y_pred = best_model.predict(X_test)"
   ]
  },
  {
   "cell_type": "code",
   "execution_count": 43,
   "id": "702a17ff-b5a6-4d39-94a7-5399d900eba6",
   "metadata": {},
   "outputs": [],
   "source": [
    "submission_df = pd.DataFrame({\n",
    "    'Id': test_id,  \n",
    "    'SalePrice': y_pred \n",
    "})\n",
    "\n",
    "submission_df.to_csv('submission.csv', index=False)"
   ]
  },
  {
   "cell_type": "code",
   "execution_count": null,
   "id": "a5a3bc7a-cfa1-4de2-bad4-3f892437fa2c",
   "metadata": {},
   "outputs": [],
   "source": []
  }
 ],
 "metadata": {
  "kernelspec": {
   "display_name": "Python 3 (ipykernel)",
   "language": "python",
   "name": "python3"
  },
  "language_info": {
   "codemirror_mode": {
    "name": "ipython",
    "version": 3
   },
   "file_extension": ".py",
   "mimetype": "text/x-python",
   "name": "python",
   "nbconvert_exporter": "python",
   "pygments_lexer": "ipython3",
   "version": "3.12.7"
  }
 },
 "nbformat": 4,
 "nbformat_minor": 5
}
